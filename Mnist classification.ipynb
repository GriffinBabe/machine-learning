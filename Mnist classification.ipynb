{
 "cells": [
  {
   "cell_type": "code",
   "execution_count": 4,
   "id": "eleven-worthy",
   "metadata": {},
   "outputs": [
    {
     "data": {
      "text/plain": [
       "dict_keys(['data', 'target', 'frame', 'categories', 'feature_names', 'target_names', 'DESCR', 'details', 'url'])"
      ]
     },
     "execution_count": 4,
     "metadata": {},
     "output_type": "execute_result"
    }
   ],
   "source": [
    "import pandas as pd\n",
    "import numpy as np\n",
    "from sklearn.datasets import fetch_openml\n",
    "\n",
    "mnist = fetch_openml('mnist_784', version=1)\n",
    "mnist.keys()"
   ]
  },
  {
   "cell_type": "code",
   "execution_count": 15,
   "id": "inclusive-primary",
   "metadata": {},
   "outputs": [
    {
     "data": {
      "image/png": "[encoded data removed]",
      "text/plain": [
       "<Figure size 432x288 with 1 Axes>"
      ]
     },
     "metadata": {
      "needs_background": "light"
     },
     "output_type": "display_data"
    },
    {
     "name": "stdout",
     "output_type": "stream",
     "text": [
      "Label of this image: 5\n"
     ]
    }
   ],
   "source": [
    "import matplotlib.pyplot as plt\n",
    "\n",
    "X, y = mnist['data'], mnist['target']\n",
    "\n",
    "digit = X.iloc[0].to_numpy().reshape(28, 28)\n",
    "\n",
    "plt.imshow(digit)\n",
    "plt.show()\n",
    "\n",
    "print('Label of this image: {}'.format(y.iloc[0]))\n"
   ]
  },
  {
   "cell_type": "code",
   "execution_count": 16,
   "id": "center-generator",
   "metadata": {},
   "outputs": [],
   "source": [
    "y = y.astype(np.uint8)  # Only 10 digits\n"
   ]
  },
  {
   "cell_type": "code",
   "execution_count": 17,
   "id": "plastic-inclusion",
   "metadata": {},
   "outputs": [],
   "source": [
    "# MNIST set is already split in test and dataset\n",
    "X_train, y_train = X.iloc[:60000], y.iloc[:60000]\n",
    "X_test, y_test = X.iloc[60000:], y.iloc[60000:]"
   ]
  },
  {
   "cell_type": "code",
   "execution_count": 18,
   "id": "sufficient-monitor",
   "metadata": {},
   "outputs": [],
   "source": [
    "# Some learning models benefit more of shuffled data, others such as time series data (stock prediction)\n",
    "# rather have the training data in the right order\n",
    "\n",
    "# MNSIT data set is image recognition and better be shuffled for it's model (and is already shuffled)"
   ]
  },
  {
   "cell_type": "code",
   "execution_count": 22,
   "id": "conditional-highway",
   "metadata": {},
   "outputs": [],
   "source": [
    "# We are going to first do a binary classifier\n",
    "\n",
    "y_train_5 = (y_train == 5)\n",
    "y_test_5 = (y_test == 5)"
   ]
  },
  {
   "cell_type": "code",
   "execution_count": 24,
   "id": "african-installation",
   "metadata": {},
   "outputs": [
    {
     "data": {
      "text/plain": [
       "SGDClassifier(random_state=42)"
      ]
     },
     "execution_count": 24,
     "metadata": {},
     "output_type": "execute_result"
    }
   ],
   "source": [
    "# We use a Stochastic Gradient Descend classifier, very dependant on randomness, so set the seet to the same\n",
    "\n",
    "from sklearn.linear_model import SGDClassifier\n",
    "\n",
    "sgd_clf = SGDClassifier(random_state=42)\n",
    "sgd_clf.fit(X_train, y_train_5)  # Will train the data with labels as true/false\n",
    "                                 # Model will use 28x28 input features"
   ]
  },
  {
   "cell_type": "code",
   "execution_count": 26,
   "id": "realistic-filename",
   "metadata": {},
   "outputs": [
    {
     "name": "stdout",
     "output_type": "stream",
     "text": [
      "Is a 5? [ True]\n"
     ]
    }
   ],
   "source": [
    "# Predict the first digit we saw (that is a 5)\n",
    "\n",
    "some_digit = X.iloc[0]\n",
    "\n",
    "print('Is a 5? {}'.format(sgd_clf.predict([some_digit])))"
   ]
  },
  {
   "cell_type": "code",
   "execution_count": 39,
   "id": "yellow-albania",
   "metadata": {},
   "outputs": [
    {
     "name": "stdout",
     "output_type": "stream",
     "text": [
      "0.8787\n",
      "0.8495\n",
      "0.85815\n"
     ]
    }
   ],
   "source": [
    "# Measure the accuracy with cross-validation\n",
    "\n",
    "from sklearn.model_selection import StratifiedKFold\n",
    "from sklearn.base import clone\n",
    "\n",
    "# Divides the data in 3 splits while preserving the ratio of sample's labels on each fold\n",
    "skfolds = StratifiedKFold(n_splits=3) \n",
    "\n",
    "for train_index, test_index in skfolds.split(X_train, y_train_5):\n",
    "    clone_clf = clone(sgd_clf)\n",
    "    X_train_folds = X_train.iloc[train_index]\n",
    "    y_train_folds = y_train.iloc[train_index]\n",
    "    \n",
    "    X_test_fold = X_train.iloc[test_index]\n",
    "    y_test_fold = y_train.iloc[test_index]\n",
    "    \n",
    "    clone_clf.fit(X_train_folds, y_train_folds)\n",
    "    y_pred = clone_clf.predict(X_test_fold)\n",
    "    n_correct = sum(y_test_fold == y_pred)\n",
    "    print(n_correct/len(y_pred))\n",
    "    \n",
    "\n",
    "\n"
   ]
  },
  {
   "cell_type": "code",
   "execution_count": 40,
   "id": "angry-smart",
   "metadata": {},
   "outputs": [
    {
     "name": "stdout",
     "output_type": "stream",
     "text": [
      "[0.95035 0.96035 0.9604 ]\n"
     ]
    }
   ],
   "source": [
    "from sklearn.model_selection import cross_val_score\n",
    "\n",
    "scores = cross_val_score(sgd_clf, X_train, y_train_5, cv=3, scoring='accuracy')\n",
    "print(scores)"
   ]
  },
  {
   "cell_type": "code",
   "execution_count": 41,
   "id": "sporting-rehabilitation",
   "metadata": {},
   "outputs": [],
   "source": [
    "# The score is high, but so is the number of entries that are NOT 5\n",
    "\n",
    "# The accurracy is often not the best way to measure the classifier performance\n",
    "from sklearn.model_selection import cross_val_predict\n",
    "\n",
    "# We are going to use a confusion matrix to measure the score\n",
    "\n",
    "y_train_pred = cross_val_predict(sgd_clf, X_train, y_train_5, cv=3)  # Just like cross_val_score, but returns\n",
    "                                                                     # the predictions instead of the score"
   ]
  },
  {
   "cell_type": "code",
   "execution_count": 42,
   "id": "manual-stewart",
   "metadata": {},
   "outputs": [
    {
     "data": {
      "text/plain": [
       "array([[53892,   687],\n",
       "       [ 1891,  3530]])"
      ]
     },
     "execution_count": 42,
     "metadata": {},
     "output_type": "execute_result"
    }
   ],
   "source": [
    "from sklearn.metrics import confusion_matrix\n",
    "\n",
    "confusion_matrix(y_train_5, y_train_pred)  \n",
    "# first row are non-5, a perfect classifier would have 0 on all non-diagonals"
   ]
  },
  {
   "cell_type": "code",
   "execution_count": 43,
   "id": "suited-headquarters",
   "metadata": {},
   "outputs": [
    {
     "name": "stdout",
     "output_type": "stream",
     "text": [
      "0.8370879772350012\n",
      "0.6511713705958311\n"
     ]
    }
   ],
   "source": [
    "# precision = true_positive / (true_positive + false_positive)\n",
    "# recall = true_positive / (true_positive + false_negative)\n",
    "from sklearn.metrics import precision_score, recall_score\n",
    "\n",
    "precision = precision_score(y_train_5, y_train_pred))\n",
    "recall = recall_score(y_train_5, y_train_pred))\n",
    "print(precision, recall)"
   ]
  },
  {
   "cell_type": "code",
   "execution_count": 44,
   "id": "exclusive-police",
   "metadata": {},
   "outputs": [
    {
     "name": "stdout",
     "output_type": "stream",
     "text": [
      "0.7325171197343846\n"
     ]
    }
   ],
   "source": [
    "# harmonic_mean = 2 / (1/precision + 1/recall)\n",
    "\n",
    "from sklearn.metrics import f1_score\n",
    "\n",
    "f1 = f1_score(y_train_5, y_train_pred)\n",
    "print(f1)"
   ]
  },
  {
   "cell_type": "code",
   "execution_count": 47,
   "id": "grave-photography",
   "metadata": {},
   "outputs": [],
   "source": [
    "# the f1 score is not always the best measure either\n",
    "# For a kid safe video classifier, you want to be as safe as possible (high precision)\n",
    "# even if it costs to deny some good videos (low recall)\n",
    "\n",
    "# A shoplifter detection algorithm will still be good with a low precision and high recall\n",
    "\n",
    "# There is always a trade-off between precision and recall to make\n",
    "\n",
    "from sklearn.metrics import precision_recall_curve\n",
    "\n",
    "# Computes the curve of precision/recalls with the threshold value\n",
    "\n",
    "# Just liek cross_val_predict, but returns the decisions value (that will be thresholded for classification)\n",
    "# instead of the classification performance score\n",
    "y_scores = cross_val_predict(sgd_clf, X_train, y_train_5, cv=3, method='decision_function')"
   ]
  },
  {
   "cell_type": "code",
   "execution_count": 50,
   "id": "unlikely-melbourne",
   "metadata": {},
   "outputs": [
    {
     "data": {
      "image/png": "[encoded data removed]",
      "text/plain": [
       "<Figure size 432x288 with 1 Axes>"
      ]
     },
     "metadata": {},
     "output_type": "display_data"
    }
   ],
   "source": [
    "precisions, recalls, thresholds = precision_recall_curve(y_train_5, y_scores)\n",
    "\n",
    "plt.style.use('ggplot')\n",
    "\n",
    "def plot_precision_recalls_vs_threshold(precisions, recalls, thresholds):\n",
    "    plt.plot(thresholds, precisions[:-1], 'b--', label='Precision')\n",
    "    plt.plot(thresholds, recalls[:-1], 'g-', label='Recall')\n",
    "    plt.xlabel('Threshold')\n",
    "    plt.ylabel('Precision/Recall')\n",
    "    plt.legend()\n",
    "    plt.plot()\n",
    "    \n",
    "plot_precision_recalls_vs_threshold(precisions, recalls, thresholds)\n",
    "\n"
   ]
  },
  {
   "cell_type": "code",
   "execution_count": null,
   "id": "handy-firewall",
   "metadata": {},
   "outputs": [],
   "source": []
  },
  {
   "cell_type": "code",
   "execution_count": null,
   "id": "great-lottery",
   "metadata": {},
   "outputs": [],
   "source": []
  },
  {
   "cell_type": "code",
   "execution_count": 51,
   "id": "unlike-hawaiian",
   "metadata": {},
   "outputs": [
    {
     "data": {
      "image/png": "[encoded data removed]",
      "text/plain": [
       "<Figure size 432x288 with 1 Axes>"
      ]
     },
     "metadata": {},
     "output_type": "display_data"
    }
   ],
   "source": [
    "plt.plot(precisions[:-1], recalls[:-1])\n",
    "plt.show()"
   ]
  },
  {
   "cell_type": "code",
   "execution_count": 53,
   "id": "difficult-graphics",
   "metadata": {},
   "outputs": [
    {
     "name": "stdout",
     "output_type": "stream",
     "text": [
      "0.9000345901072293 0.4799852425751706\n"
     ]
    }
   ],
   "source": [
    "# A good way to find a trade-off is through this plot above\n",
    "\n",
    "# For example, we want to find the threshold that gives 90% of precision\n",
    "\n",
    "threshold_90_precision = thresholds[np.argmax(precisions >= .9)]\n",
    "y_train_pred_90 = (y_scores >= threshold_90_precision)\n",
    "\n",
    "precision = precision_score(y_train_5, y_train_pred_90)\n",
    "recall = recall_score(y_train_5, y_train_pred_90)\n",
    "\n",
    "print(precision, recall)"
   ]
  },
  {
   "cell_type": "code",
   "execution_count": 54,
   "id": "virgin-sociology",
   "metadata": {},
   "outputs": [
    {
     "data": {
      "image/png": "[encoded data removed]",
      "text/plain": [
       "<Figure size 432x288 with 1 Axes>"
      ]
     },
     "metadata": {},
     "output_type": "display_data"
    }
   ],
   "source": [
    "# Another way to measure the binary classifier performance and tune it's decision function\n",
    "from sklearn.metrics import roc_curve\n",
    "\n",
    "fpr, tpr, thresholds = roc_curve(y_train_5, y_scores)\n",
    "\n",
    "def plot_roc_curve(fpr, tpr, label=None):\n",
    "    plt.plot(fpr, tpr, linewidth=2, label=label)\n",
    "    plt.plot([0, 1], [0, 1], 'k--')  # Dashed diagonal\n",
    "    plt.xlabel('False positive rate (Recall)')\n",
    "    plt.ylabel('True positive rate (Sensitivity)')\n",
    "    plt.show()\n",
    "    \n",
    "plot_roc_curve(fpr, tpr)"
   ]
  },
  {
   "cell_type": "code",
   "execution_count": 55,
   "id": "passing-mechanism",
   "metadata": {},
   "outputs": [
    {
     "data": {
      "text/plain": [
       "0.9604938554008616"
      ]
     },
     "execution_count": 55,
     "metadata": {},
     "output_type": "execute_result"
    }
   ],
   "source": [
    "# A good classifier would be as far as possible from the diagonal\n",
    "# The diagonal represents the ROC curve of a totally random classifier\n",
    "# A good way to evaluate the performance of a model is to compute the area under the curve (AUC)\n",
    "\n",
    "from sklearn.metrics import roc_auc_score\n",
    "\n",
    "roc_auc_score(y_train_5, y_scores)"
   ]
  },
  {
   "cell_type": "code",
   "execution_count": 56,
   "id": "dense-lambda",
   "metadata": {},
   "outputs": [],
   "source": [
    "# The score is high but this is due to the fact that there are few positives (few 5) compared to negatives\n",
    "\n",
    "# One should use the PR curve when he cares more about the false positives than the false negatives\n",
    "# Otherwise, use ROC"
   ]
  },
  {
   "cell_type": "code",
   "execution_count": 59,
   "id": "sophisticated-missile",
   "metadata": {},
   "outputs": [],
   "source": [
    "# We do the same with the RandomForestClassifier\n",
    "\n",
    "# Instead of returning the decision_function that will be threhsolded next,\n",
    "# the RDC returns the probability for each class in the y_proba_forest\n",
    "\n",
    "from sklearn.ensemble import RandomForestClassifier\n",
    "\n",
    "forest_clf = RandomForestClassifier(random_state=42)\n",
    "y_proba_forest = cross_val_predict(forest_clf, X_train, y_train_5, cv=3, method='predict_proba')\n",
    "y_scores_forest = y_proba_forest[:, 1]  # Proba for positives"
   ]
  },
  {
   "cell_type": "code",
   "execution_count": null,
   "id": "wooden-value",
   "metadata": {},
   "outputs": [],
   "source": [
    "fpr_forest, tpr_forest, threshold_forest = roc_curve(y_train_5, y_scores_forest)\n",
    "\n",
    "plt.plot(fpr, tpr, 'b:', label='SGD')\n",
    "plot_roc_curve(fpr_forest, tpr_forest, 'random forest')"
   ]
  }
 ],
 "metadata": {
  "kernelspec": {
   "display_name": "Python 3",
   "language": "python",
   "name": "python3"
  },
  "language_info": {
   "codemirror_mode": {
    "name": "ipython",
    "version": 3
   },
   "file_extension": ".py",
   "mimetype": "text/x-python",
   "name": "python",
   "nbconvert_exporter": "python",
   "pygments_lexer": "ipython3",
   "version": "3.9.0"
  }
 },
 "nbformat": 4,
 "nbformat_minor": 5
}
